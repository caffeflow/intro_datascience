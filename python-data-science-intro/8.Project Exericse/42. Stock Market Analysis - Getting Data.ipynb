{
 "cells": [
  {
   "cell_type": "markdown",
   "metadata": {},
   "source": [
    "# 股票市场的分析"
   ]
  },
  {
   "cell_type": "markdown",
   "metadata": {},
   "source": [
    "### pandas-datareader, 通过一些API获取数据"
   ]
  },
  {
   "attachments": {},
   "cell_type": "markdown",
   "metadata": {},
   "source": [
    "首先，安装pandas-datareader库，conda install pandas-datareader"
   ]
  },
  {
   "cell_type": "code",
   "execution_count": 24,
   "metadata": {},
   "outputs": [],
   "source": [
    "import pandas_datareader as pdr"
   ]
  },
  {
   "cell_type": "code",
   "execution_count": 25,
   "metadata": {},
   "outputs": [],
   "source": [
    "#  通过https://finance.yahoo.com/的API获取阿里巴巴的股票数据,返回dataframe\n",
    "df = pdr.get_data_yahoo('BABA')"
   ]
  },
  {
   "cell_type": "code",
   "execution_count": 26,
   "metadata": {},
   "outputs": [
    {
     "data": {
      "text/plain": [
       "(1259, 6)"
      ]
     },
     "execution_count": 26,
     "metadata": {},
     "output_type": "execute_result"
    }
   ],
   "source": [
    "df.shape"
   ]
  },
  {
   "cell_type": "code",
   "execution_count": 27,
   "metadata": {},
   "outputs": [
    {
     "data": {
      "text/html": [
       "<div>\n",
       "<style scoped>\n",
       "    .dataframe tbody tr th:only-of-type {\n",
       "        vertical-align: middle;\n",
       "    }\n",
       "\n",
       "    .dataframe tbody tr th {\n",
       "        vertical-align: top;\n",
       "    }\n",
       "\n",
       "    .dataframe thead th {\n",
       "        text-align: right;\n",
       "    }\n",
       "</style>\n",
       "<table border=\"1\" class=\"dataframe\">\n",
       "  <thead>\n",
       "    <tr style=\"text-align: right;\">\n",
       "      <th></th>\n",
       "      <th>High</th>\n",
       "      <th>Low</th>\n",
       "      <th>Open</th>\n",
       "      <th>Close</th>\n",
       "      <th>Volume</th>\n",
       "      <th>Adj Close</th>\n",
       "    </tr>\n",
       "    <tr>\n",
       "      <th>Date</th>\n",
       "      <th></th>\n",
       "      <th></th>\n",
       "      <th></th>\n",
       "      <th></th>\n",
       "      <th></th>\n",
       "      <th></th>\n",
       "    </tr>\n",
       "  </thead>\n",
       "  <tbody>\n",
       "    <tr>\n",
       "      <th>2015-02-17</th>\n",
       "      <td>88.989998</td>\n",
       "      <td>86.699997</td>\n",
       "      <td>88.779999</td>\n",
       "      <td>86.849998</td>\n",
       "      <td>15191700</td>\n",
       "      <td>86.849998</td>\n",
       "    </tr>\n",
       "    <tr>\n",
       "      <th>2015-02-18</th>\n",
       "      <td>87.430000</td>\n",
       "      <td>86.500000</td>\n",
       "      <td>87.099998</td>\n",
       "      <td>86.739998</td>\n",
       "      <td>7422300</td>\n",
       "      <td>86.739998</td>\n",
       "    </tr>\n",
       "    <tr>\n",
       "      <th>2015-02-19</th>\n",
       "      <td>87.870003</td>\n",
       "      <td>86.709999</td>\n",
       "      <td>86.809998</td>\n",
       "      <td>86.889999</td>\n",
       "      <td>7604100</td>\n",
       "      <td>86.889999</td>\n",
       "    </tr>\n",
       "    <tr>\n",
       "      <th>2015-02-20</th>\n",
       "      <td>87.290001</td>\n",
       "      <td>86.379997</td>\n",
       "      <td>87.250000</td>\n",
       "      <td>86.639999</td>\n",
       "      <td>7821700</td>\n",
       "      <td>86.639999</td>\n",
       "    </tr>\n",
       "    <tr>\n",
       "      <th>2015-02-23</th>\n",
       "      <td>86.680000</td>\n",
       "      <td>85.250000</td>\n",
       "      <td>86.510002</td>\n",
       "      <td>85.470001</td>\n",
       "      <td>9367900</td>\n",
       "      <td>85.470001</td>\n",
       "    </tr>\n",
       "  </tbody>\n",
       "</table>\n",
       "</div>"
      ],
      "text/plain": [
       "                 High        Low       Open      Close    Volume  Adj Close\n",
       "Date                                                                       \n",
       "2015-02-17  88.989998  86.699997  88.779999  86.849998  15191700  86.849998\n",
       "2015-02-18  87.430000  86.500000  87.099998  86.739998   7422300  86.739998\n",
       "2015-02-19  87.870003  86.709999  86.809998  86.889999   7604100  86.889999\n",
       "2015-02-20  87.290001  86.379997  87.250000  86.639999   7821700  86.639999\n",
       "2015-02-23  86.680000  85.250000  86.510002  85.470001   9367900  85.470001"
      ]
     },
     "execution_count": 27,
     "metadata": {},
     "output_type": "execute_result"
    }
   ],
   "source": [
    "df.head()"
   ]
  },
  {
   "cell_type": "code",
   "execution_count": null,
   "metadata": {},
   "outputs": [],
   "source": []
  }
 ],
 "metadata": {
  "kernelspec": {
   "display_name": "Python 3",
   "language": "python",
   "name": "python3"
  },
  "language_info": {
   "codemirror_mode": {
    "name": "ipython",
    "version": 3
   },
   "file_extension": ".py",
   "mimetype": "text/x-python",
   "name": "python",
   "nbconvert_exporter": "python",
   "pygments_lexer": "ipython3",
   "version": "3.7.1"
  }
 },
 "nbformat": 4,
 "nbformat_minor": 2
}
