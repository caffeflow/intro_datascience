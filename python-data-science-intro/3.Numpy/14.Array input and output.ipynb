{
 "cells": [
  {
   "cell_type": "markdown",
   "metadata": {},
   "source": [
    "# 使用pickle序列化numpy array"
   ]
  },
  {
   "cell_type": "code",
   "execution_count": 1,
   "metadata": {},
   "outputs": [],
   "source": [
    "import pickle\n",
    "import numpy as np"
   ]
  },
  {
   "cell_type": "code",
   "execution_count": 2,
   "metadata": {},
   "outputs": [],
   "source": [
    "x = np.arange(10)"
   ]
  },
  {
   "cell_type": "code",
   "execution_count": 3,
   "metadata": {},
   "outputs": [
    {
     "data": {
      "text/plain": [
       "array([0, 1, 2, 3, 4, 5, 6, 7, 8, 9])"
      ]
     },
     "execution_count": 3,
     "metadata": {},
     "output_type": "execute_result"
    }
   ],
   "source": [
    "x"
   ]
  },
  {
   "cell_type": "code",
   "execution_count": 4,
   "metadata": {},
   "outputs": [],
   "source": [
    "f = open('x.pkl','wb')"
   ]
  },
  {
   "cell_type": "code",
   "execution_count": 5,
   "metadata": {},
   "outputs": [],
   "source": [
    "pickle.dump(x,f)"
   ]
  },
  {
   "cell_type": "code",
   "execution_count": 6,
   "metadata": {},
   "outputs": [
    {
     "name": "stdout",
     "output_type": "stream",
     "text": [
      " 驱动器 D 中的卷是 Data\n",
      " 卷的序列号是 C486-DFF8\n",
      "\n",
      " D:\\WS\\datascience 的目录\n",
      "\n",
      "2020/02/06  23:08    <DIR>          .\n",
      "2020/02/06  23:08    <DIR>          ..\n",
      "2020/02/05  11:27    <DIR>          .ipynb_checkpoints\n",
      "2020/02/05  10:36             6,557 array.ipynb\n",
      "2020/02/06  23:08             6,684 Array的input和output.ipynb\n",
      "2020/02/06  23:06               168 one_array.npy\n",
      "2020/02/06  23:08               510 two_array.npz\n",
      "2020/02/06  23:08                 0 x.pkl\n",
      "2020/02/05  11:27            10,338 数组与矩阵运算.ipynb\n",
      "               6 个文件         24,257 字节\n",
      "               3 个目录 82,282,598,400 可用字节\n"
     ]
    }
   ],
   "source": [
    "ls"
   ]
  },
  {
   "cell_type": "code",
   "execution_count": 7,
   "metadata": {},
   "outputs": [],
   "source": [
    "f = open('x.pkl','rb')"
   ]
  },
  {
   "cell_type": "code",
   "execution_count": 8,
   "metadata": {},
   "outputs": [
    {
     "data": {
      "text/plain": [
       "array([0, 1, 2, 3, 4, 5, 6, 7, 8, 9])"
      ]
     },
     "execution_count": 8,
     "metadata": {},
     "output_type": "execute_result"
    }
   ],
   "source": [
    "pickle.load(f)"
   ]
  },
  {
   "cell_type": "markdown",
   "metadata": {},
   "source": [
    "# numpy的序列化"
   ]
  },
  {
   "cell_type": "code",
   "execution_count": 9,
   "metadata": {},
   "outputs": [],
   "source": [
    "# 一个数组序列化\n",
    "np.save('one_array',x)"
   ]
  },
  {
   "cell_type": "code",
   "execution_count": 10,
   "metadata": {},
   "outputs": [
    {
     "name": "stdout",
     "output_type": "stream",
     "text": [
      " 驱动器 D 中的卷是 Data\n",
      " 卷的序列号是 C486-DFF8\n",
      "\n",
      " D:\\WS\\datascience 的目录\n",
      "\n",
      "2020/02/06  23:08    <DIR>          .\n",
      "2020/02/06  23:08    <DIR>          ..\n",
      "2020/02/05  11:27    <DIR>          .ipynb_checkpoints\n",
      "2020/02/05  10:36             6,557 array.ipynb\n",
      "2020/02/06  23:08             6,684 Array的input和output.ipynb\n",
      "2020/02/06  23:08               168 one_array.npy\n",
      "2020/02/06  23:08               510 two_array.npz\n",
      "2020/02/06  23:08               195 x.pkl\n",
      "2020/02/05  11:27            10,338 数组与矩阵运算.ipynb\n",
      "               6 个文件         24,452 字节\n",
      "               3 个目录 82,282,598,400 可用字节\n"
     ]
    }
   ],
   "source": [
    "ls"
   ]
  },
  {
   "cell_type": "code",
   "execution_count": 11,
   "metadata": {},
   "outputs": [
    {
     "data": {
      "text/plain": [
       "array([0, 1, 2, 3, 4, 5, 6, 7, 8, 9])"
      ]
     },
     "execution_count": 11,
     "metadata": {},
     "output_type": "execute_result"
    }
   ],
   "source": [
    "# 后缀.npy\n",
    "np.load('one_array.npy')"
   ]
  },
  {
   "cell_type": "code",
   "execution_count": 12,
   "metadata": {},
   "outputs": [],
   "source": [
    "# 多个数组序列化 \n",
    "y = np.arange(5)\n",
    "np.savez('two_array',a = x,b = y)"
   ]
  },
  {
   "cell_type": "code",
   "execution_count": 13,
   "metadata": {},
   "outputs": [
    {
     "name": "stdout",
     "output_type": "stream",
     "text": [
      " 驱动器 D 中的卷是 Data\n",
      " 卷的序列号是 C486-DFF8\n",
      "\n",
      " D:\\WS\\datascience 的目录\n",
      "\n",
      "2020/02/06  23:08    <DIR>          .\n",
      "2020/02/06  23:08    <DIR>          ..\n",
      "2020/02/05  11:27    <DIR>          .ipynb_checkpoints\n",
      "2020/02/05  10:36             6,557 array.ipynb\n",
      "2020/02/06  23:08             6,684 Array的input和output.ipynb\n",
      "2020/02/06  23:08               168 one_array.npy\n",
      "2020/02/06  23:08               510 two_array.npz\n",
      "2020/02/06  23:08               195 x.pkl\n",
      "2020/02/05  11:27            10,338 数组与矩阵运算.ipynb\n",
      "               6 个文件         24,452 字节\n",
      "               3 个目录 82,282,598,400 可用字节\n"
     ]
    }
   ],
   "source": [
    "ls"
   ]
  },
  {
   "cell_type": "code",
   "execution_count": 14,
   "metadata": {},
   "outputs": [],
   "source": [
    "# 后缀.npz\n",
    "c = np.load('two_array.npz')"
   ]
  },
  {
   "cell_type": "code",
   "execution_count": 15,
   "metadata": {},
   "outputs": [
    {
     "data": {
      "text/plain": [
       "array([0, 1, 2, 3, 4, 5, 6, 7, 8, 9])"
      ]
     },
     "execution_count": 15,
     "metadata": {},
     "output_type": "execute_result"
    }
   ],
   "source": [
    "c['a']"
   ]
  },
  {
   "cell_type": "code",
   "execution_count": 16,
   "metadata": {},
   "outputs": [
    {
     "data": {
      "text/plain": [
       "array([0, 1, 2, 3, 4])"
      ]
     },
     "execution_count": 16,
     "metadata": {},
     "output_type": "execute_result"
    }
   ],
   "source": [
    "c['b']"
   ]
  },
  {
   "cell_type": "code",
   "execution_count": null,
   "metadata": {},
   "outputs": [],
   "source": []
  }
 ],
 "metadata": {
  "kernelspec": {
   "display_name": "Python 3",
   "language": "python",
   "name": "python3"
  },
  "language_info": {
   "codemirror_mode": {
    "name": "ipython",
    "version": 3
   },
   "file_extension": ".py",
   "mimetype": "text/x-python",
   "name": "python",
   "nbconvert_exporter": "python",
   "pygments_lexer": "ipython3",
   "version": "3.7.1"
  }
 },
 "nbformat": 4,
 "nbformat_minor": 2
}
